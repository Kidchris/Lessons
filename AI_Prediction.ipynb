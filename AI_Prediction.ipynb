{
 "cells": [
  {
   "cell_type": "markdown",
   "metadata": {},
   "source": [
    "simple test for predicting iris flower categories with KNeighbors method"
   ]
  },
  {
   "cell_type": "code",
   "execution_count": 1,
   "metadata": {},
   "outputs": [
    {
     "name": "stdout",
     "output_type": "stream",
     "text": [
      "tout est ok\n",
      "['setosa']\n",
      "[0.95, 0.9666666666666667, 0.95, 0.9666666666666667, 0.95, 0.9666666666666667, 0.9666666666666667, 0.9666666666666667, 0.9666666666666667, 0.9666666666666667, 0.9666666666666667, 0.95, 0.9666666666666667, 0.9666666666666667, 0.9666666666666667, 0.95, 0.9333333333333333, 0.9666666666666667, 0.9666666666666667, 0.9666666666666667, 0.9666666666666667, 0.95, 0.9666666666666667, 0.95, 0.9333333333333333, 0.9333333333333333, 0.95, 0.95, 0.9333333333333333, 0.9166666666666666, 0.9166666666666666, 0.9166666666666666, 0.9333333333333333, 0.9166666666666666, 0.9166666666666666, 0.9166666666666666, 0.9, 0.9, 0.9166666666666666, 0.9166666666666666, 0.9, 0.9166666666666666, 0.9166666666666666, 0.9, 0.9, 0.8833333333333333, 0.9, 0.9, 0.8666666666666667]\n"
     ]
    },
    {
     "data": {
      "text/plain": [
       "[<matplotlib.lines.Line2D at 0x7f513af3b7c0>]"
      ]
     },
     "execution_count": 1,
     "metadata": {},
     "output_type": "execute_result"
    },
    {
     "data": {
      "image/png": "[encoded data removed]",
      "text/plain": [
       "<Figure size 432x288 with 1 Axes>"
      ]
     },
     "metadata": {
      "needs_background": "light"
     },
     "output_type": "display_data"
    }
   ],
   "source": [
    "# -*- coding: utf-8 -*-\n",
    "\"\"\"\n",
    "\n",
    "\n",
    "This is a temporary script file.\n",
    "\"\"\"\n",
    "import numpy as np\n",
    "import matplotlib.pyplot as plt\n",
    "import seaborn as sb\n",
    "import pandas as pd\n",
    "from sklearn import datasets as dst\n",
    "from sklearn.model_selection import train_test_split\n",
    "from sklearn.neighbors import KNeighborsClassifier\n",
    "\n",
    "print(\"tout est ok\")\n",
    "\n",
    "iris = sb.load_dataset(\"iris\")\n",
    "\n",
    "a = iris.drop([\"species\"], axis=1)\n",
    "b = iris[\"species\"]\n",
    "\n",
    "X_train, X_test, y_train, y_test = train_test_split(a,b,test_size=0.4)\n",
    "exemple = np.array([2,1,0.9,1]).reshape(1,4)\n",
    "\n",
    "predicition_final = []\n",
    "score_finale = []\n",
    "a = range(1,50)\n",
    "\n",
    "for i in range(1,50):\n",
    "    N_model = KNeighborsClassifier(n_neighbors=i)\n",
    "    N_model.fit(X_train, y_train)\n",
    "    score_finale.append(N_model.score(X_test, y_test))\n",
    "    predicition_final = N_model.predict(exemple)\n",
    "    \n",
    "print(predicition_final)\n",
    "print(score_finale)\n",
    "plt.plot(a, score_finale, \"om\")"
   ]
  },
  {
   "cell_type": "code",
   "execution_count": null,
   "metadata": {},
   "outputs": [],
   "source": []
  },
  {
   "cell_type": "code",
   "execution_count": null,
   "metadata": {},
   "outputs": [],
   "source": []
  },
  {
   "cell_type": "code",
   "execution_count": null,
   "metadata": {},
   "outputs": [],
   "source": []
  },
  {
   "cell_type": "code",
   "execution_count": null,
   "metadata": {},
   "outputs": [],
   "source": []
  },
  {
   "cell_type": "code",
   "execution_count": null,
   "metadata": {},
   "outputs": [],
   "source": []
  },
  {
   "cell_type": "code",
   "execution_count": null,
   "metadata": {},
   "outputs": [],
   "source": []
  }
 ],
 "metadata": {
  "kernelspec": {
   "display_name": "Python 3",
   "language": "python",
   "name": "python3"
  },
  "language_info": {
   "codemirror_mode": {
    "name": "ipython",
    "version": 3
   },
   "file_extension": ".py",
   "mimetype": "text/x-python",
   "name": "python",
   "nbconvert_exporter": "python",
   "pygments_lexer": "ipython3",
   "version": "3.8.5"
  }
 },
 "nbformat": 4,
 "nbformat_minor": 4
}
