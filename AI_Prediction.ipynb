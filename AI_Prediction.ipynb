{
 "cells": [
  {
   "cell_type": "code",
   "execution_count": null,
   "metadata": {},
   "outputs": [],
   "source": []
  },
  {
   "cell_type": "code",
   "execution_count": 86,
   "metadata": {},
   "outputs": [
    {
     "name": "stdout",
     "output_type": "stream",
     "text": [
      "tout est ok\n",
      "<class 'pandas.core.frame.DataFrame'>\n",
      "look at here for more \n"
     ]
    },
    {
     "name": "stderr",
     "output_type": "stream",
     "text": [
      "<ipython-input-86-21881d457f1a>:28: DataConversionWarning: A column-vector y was passed when a 1d array was expected. Please change the shape of y to (n_samples, ), for example using ravel().\n",
      "  N_model.fit(X_train, y_train)\n"
     ]
    },
    {
     "data": {
      "text/plain": [
       "array(['setosa'], dtype=object)"
      ]
     },
     "execution_count": 86,
     "metadata": {},
     "output_type": "execute_result"
    }
   ],
   "source": [
    "# -*- coding: utf-8 -*-\n",
    "\"\"\"\n",
    "\n",
    "\n",
    "This is a temporary script file.\n",
    "\"\"\"\n",
    "import numpy as np\n",
    "import matplotlib.pyplot as plt\n",
    "import seaborn as sb\n",
    "import pandas as pd\n",
    "from sklearn import datasets as dst\n",
    "from sklearn.model_selection import train_test_split\n",
    "from sklearn.neighbors import KNeighborsClassifier\n",
    "\n",
    "print(\"tout est ok\")\n",
    "\n",
    "iris = sb.load_dataset(\"iris\")\n",
    "print(type(iris))\n",
    "\n",
    "a = iris.drop([\"species\"], axis=1)\n",
    "b = df[\"species\"]\n",
    "\n",
    "X_train, X_test, y_train, y_test = train_test_split(a,b, random_state=0)\n",
    "print('look at here for more ')\n",
    "y_train = y_train.values.reshape(112,1)\n",
    "exemple = np.array([2,1,0.9,1]).reshape(1,4)\n",
    "N_model = KNeighborsClassifier(n_neighbors=1)\n",
    "N_model.fit(X_train, y_train)\n",
    "N_model.score(X_test, y_test)\n",
    "N_model.predict(exemple)"
   ]
  }
 ],
 "metadata": {
  "kernelspec": {
   "display_name": "Python 3",
   "language": "python",
   "name": "python3"
  },
  "language_info": {
   "codemirror_mode": {
    "name": "ipython",
    "version": 3
   },
   "file_extension": ".py",
   "mimetype": "text/x-python",
   "name": "python",
   "nbconvert_exporter": "python",
   "pygments_lexer": "ipython3",
   "version": "3.8.3"
  }
 },
 "nbformat": 4,
 "nbformat_minor": 4
}
